{
 "cells": [
  {
   "cell_type": "code",
   "execution_count": 31,
   "metadata": {},
   "outputs": [],
   "source": [
    "import webrtcvad\n",
    "import numpy as np\n",
    "from scipy.io import wavfile\n",
    "import librosa as rs\n",
    "import matplotlib.pyplot as plt\n",
    "import random\n",
    "import string\n",
    "import copy\n",
    "from audiotsm import wsola\n",
    "from audiotsm.io.wav import WavReader, WavWriter\n",
    "import subprocess\n",
    "from scipy.signal import resample, lfilter"
   ]
  },
  {
   "cell_type": "code",
   "execution_count": 12,
   "metadata": {},
   "outputs": [],
   "source": [
    "# voice modification methods\n",
    "def randomname(n = 10):\n",
    "  return ''.join(random.choices(string.ascii_letters + string.digits, k=n))\n",
    "\n",
    "def resampling(x, coef = 1.):\n",
    "  fn = \"resampling\" + \"/\" + randomname(20) + \".wav\"\n",
    "\n",
    "  wavfile.write(fn, 16000, x.astype(np.int16))\n",
    "  with WavReader(fn) as fr:\n",
    "    with WavWriter(fn + \"_resample.wav\", fr.channels, fr.samplerate) as fw:\n",
    "      tsm = wsola(channels = fr.channels, speed = coef, frame_length = 256, synthesis_hop = int(fr.samplerate / 70.0))\n",
    "      tsm.run(fr, fw)\n",
    "\n",
    "  _, y = wavfile.read(fn + \"_resample.wav\")\n",
    "  y = resample(y, len(x)).astype(x.dtype)\n",
    "\n",
    "  return y\n",
    "\n",
    "def vtln(x, alpha = 0.):\n",
    "  # STFT\n",
    "  mag_x, phase_x = rs.magphase(rs.core.stft(x))\n",
    "  mag_x, phase_x = np.log(mag_x).T, phase_x.T\n",
    "\n",
    "  # Frequency\n",
    "  freq = np.linspace(0, np.pi, mag_x.shape[-1]) #+ 1e-30\n",
    "  freq_warped = freq + 2.0 * np.arctan(alpha * np.sin(freq) / (1 - alpha * np.cos(freq)))\n",
    "\n",
    "  # Warping\n",
    "  mag_x_warped = np.zeros(mag_x.shape, dtype = mag_x.dtype)\n",
    "  for t in range(mag_x.shape[0]):\n",
    "    mag_x_warped[t, :] = np.interp(freq, freq_warped, mag_x[t, :])\n",
    "\n",
    "  # ISTFT\n",
    "  y = np.real(rs.core.istft(np.exp(mag_x_warped).T * phase_x.T)).astype(x.dtype)\n",
    "\n",
    "  if y.shape[0] == x.shape[0]:\n",
    "    return y\n",
    "  elif y.shape[0] > x.shape[0]:\n",
    "    return y[:x.shape[0]]\n",
    "  else:\n",
    "    return np.pad(y, (0, x.shape[0] - y.shape[0]))"
   ]
  },
  {
   "cell_type": "code",
   "execution_count": 37,
   "metadata": {},
   "outputs": [],
   "source": [
    "def anon_method(x, method1_param, method2_param):\n",
    "    \n",
    "    y = copy.deepcopy(x)\n",
    "    \n",
    "    y = resampling(y, method1_param)\n",
    "    y = vtln(y, method2_param)\n",
    "    \n",
    "    return y\n",
    "\n",
    "# voice activity detection\n",
    "def VAD(x, fs = 16000, smoothing = True):\n",
    "    # set VAD\n",
    "    vad = webrtcvad.Vad()\n",
    "    vad.set_mode(3)\n",
    "    frame_length, shift_length = int(fs * 30.0 * 1e-3), int(fs * 5.0 * 1e-3)\n",
    "\n",
    "    # framing\n",
    "    x_frame = rs.util.frame(x, frame_length, shift_length).astype(np.int16).T\n",
    "    \n",
    "    # VAD\n",
    "    result = [vad.is_speech(xf.tobytes(\"C\"), fs) for xf in x_frame]\n",
    "    \n",
    "    if smoothing:\n",
    "        filter_length = 21 # 約0.1秒までは許容\n",
    "        filt = np.ones(filter_length) / (filter_length - 1.)\n",
    "        filt[int(filter_length/2)] = 0.\n",
    "\n",
    "        result = np.clip(np.ceil(np.convolve(result, filt, \"full\")), 0, 1)[int(filter_length/2):-int(filter_length/2)]\n",
    "\n",
    "    return list(result)\n",
    "\n",
    "\n",
    "# time-switching anonymization\n",
    "def time_switching_hiding_2(x, method, param1_base, param1_tune, param2_base, param2_tune, fs = 16000, allow_vsplit = True):\n",
    "    \"\"\"\n",
    "    Anonymize speech with time-switching parameters.\n",
    "\n",
    "    Input:\n",
    "        x: waveform\n",
    "        method: anonymization function\n",
    "        param1, param2: anonymization parameter 1, 2\n",
    "        fs: sampling frequency\n",
    "        allow_vsplit: If True, allow switching within a voicing segment.\n",
    "            If False, switch at a silence frame (except x has only one voicing segment.)\n",
    "    \"\"\"\n",
    "\n",
    "    # run VAD\n",
    "    vad_result = np.asarray(VAD(x, fs), dtype = np.int16)\n",
    "    vad_result[0], vad_result[-1] = 0, 0\n",
    "    shift_length = int(x.shape[0] / float(vad_result.shape[0]))\n",
    "\n",
    "    # run two-type anonimyzation that does not change waveform length\n",
    "    yp = [method(x, param1_base - param2_tune, param2_base - param2_tune), \n",
    "          method(x, param1_base + param1_tune, param2_base + param2_tune)]\n",
    "    \n",
    "    print(len(yp[0]), len(yp[1]))\n",
    "    if (len(yp[0]) != len(x)) or (len(yp[1]) != len(x)):\n",
    "        raise ValueError(\"Anonymization function changed waveform length.\")\n",
    "\n",
    "    y = np.zeros(x.shape[0], dtype = x.dtype)\n",
    "\n",
    "    # find frames that VAD activated\n",
    "    if allow_vsplit:\n",
    "        time_activated = [0, int(np.average(np.where(vad_result == 1)[0]))]\n",
    "        idx = [0, 1]\n",
    "    else:\n",
    "        time_activated = np.where(vad_result - np.roll(vad_result, 1) != 0)[0]\n",
    "        if time_activated is None:\n",
    "            raise ValueError(\"Cannot detect voice frames.\")\n",
    "\n",
    "        time_activated = time_activated.reshape(-1, 2)\n",
    "        if time_activated.shape[0] == 1: # only one voicing segment\n",
    "            tmp = np.zeros((2, 2), dtype = time_activated.dtype)\n",
    "            tmp[0, 0], tmp[1, 1] = time_activated[0, 0], time_activated[0, 1]\n",
    "            tmp[0, 1], tmp[1, 0] = int(np.mean(time_activated[0, :])), int(np.mean(time_activated[0, :]))\n",
    "            time_activated = tmp\n",
    "        \n",
    "        # determine time index\n",
    "        dur = time_activated[:, 1] - time_activated[:, 0]\n",
    "        i = min(max(1, np.where(np.cumsum(dur[np.argsort(-dur)]) >= np.sum(dur) / 2.0)[0][0]), len(dur) - 1)\n",
    "        idx = np.zeros(time_activated.shape[0], dtype = np.int16)\n",
    "        idx[np.argsort(-dur)[:i]] = 1    \n",
    "\n",
    "        time_activated = time_activated[:, 0]\n",
    "        time_activated[0] = 0\n",
    "\n",
    "    for i, t in zip(idx, time_activated):\n",
    "        st = t * shift_length \n",
    "        y[st:] = yp[i][st:]\n",
    "\n",
    "    return y\n",
    "\n",
    "# time-switching anonymization\n",
    "def time_switching_hiding(x, method, param1, param2, fs = 16000, allow_vsplit = True):\n",
    "    \"\"\"\n",
    "    Anonymize speech with time-switching parameters.\n",
    "\n",
    "    Input:\n",
    "        x: waveform\n",
    "        method: anonymization function\n",
    "        param1, param2: anonymization parameter 1, 2\n",
    "        fs: sampling frequency\n",
    "        allow_vsplit: If True, allow switching within a voicing segment.\n",
    "            If False, switch at a silence frame (except x has only one voicing segment.)\n",
    "    \"\"\"\n",
    "\n",
    "    # run VAD\n",
    "    vad_result = np.asarray(VAD(x, fs), dtype = np.int16)\n",
    "    vad_result[0], vad_result[-1] = 0, 0\n",
    "    shift_length = int(x.shape[0] / float(vad_result.shape[0]))\n",
    "\n",
    "    # run two-type anonimyzation that does not change waveform length\n",
    "    yp = [method(x, param1-param2), method(x, param1 + param2)]\n",
    "    \n",
    "    print(len(yp[0]), len(yp[1]))\n",
    "    if (len(yp[0]) != len(x)) or (len(yp[1]) != len(x)):\n",
    "        raise ValueError(\"Anonymization function changed waveform length.\")\n",
    "\n",
    "    y = np.zeros(x.shape[0], dtype = x.dtype)\n",
    "\n",
    "    # find frames that VAD activated\n",
    "    if allow_vsplit:\n",
    "        time_activated = [0, int(np.average(np.where(vad_result == 1)[0]))]\n",
    "        idx = [0, 1]\n",
    "    else:\n",
    "        time_activated = np.where(vad_result - np.roll(vad_result, 1) != 0)[0]\n",
    "        if time_activated is None:\n",
    "            raise ValueError(\"Cannot detect voice frames.\")\n",
    "\n",
    "        time_activated = time_activated.reshape(-1, 2)\n",
    "        if time_activated.shape[0] == 1: # only one voicing segment\n",
    "            tmp = np.zeros((2, 2), dtype = time_activated.dtype)\n",
    "            tmp[0, 0], tmp[1, 1] = time_activated[0, 0], time_activated[0, 1]\n",
    "            tmp[0, 1], tmp[1, 0] = int(np.mean(time_activated[0, :])), int(np.mean(time_activated[0, :]))\n",
    "            time_activated = tmp\n",
    "        \n",
    "        # determine time index\n",
    "        dur = time_activated[:, 1] - time_activated[:, 0]\n",
    "        i = min(max(1, np.where(np.cumsum(dur[np.argsort(-dur)]) >= np.sum(dur) / 2.0)[0][0]), len(dur) - 1)\n",
    "        idx = np.zeros(time_activated.shape[0], dtype = np.int16)\n",
    "        idx[np.argsort(-dur)[:i]] = 1    \n",
    "\n",
    "        time_activated = time_activated[:, 0]\n",
    "        time_activated[0] = 0\n",
    "\n",
    "    for i, t in zip(idx, time_activated):\n",
    "        st = t * shift_length \n",
    "        y[st:] = yp[i][st:]\n",
    "\n",
    "    return y"
   ]
  },
  {
   "cell_type": "code",
   "execution_count": 45,
   "metadata": {
    "tags": []
   },
   "outputs": [
    {
     "name": "stdout",
     "output_type": "stream",
     "text": [
      "80441 80441\n",
      "80441 80441\n"
     ]
    },
    {
     "data": {
      "image/png": "[encoded data removed]",
      "text/plain": [
       "<Figure size 432x288 with 2 Axes>"
      ]
     },
     "metadata": {
      "needs_background": "light"
     },
     "output_type": "display_data"
    }
   ],
   "source": [
    "def sugoi_method(x, scale):\n",
    "    return scale * x\n",
    "\n",
    "fs, x = wavfile.read(\"p234_030_mic2.wav\")\n",
    "x = x.astype(np.float32)\n",
    "\n",
    "# original waveform\n",
    "plt.subplot(211)\n",
    "plt.ylim(-10000, 10000)\n",
    "plt.plot(x)\n",
    "\n",
    "resample_base=1.0\n",
    "resample_coef=0.2\n",
    "vtln_base=0.0\n",
    "vtln_coef=0.1\n",
    "\n",
    "# anonymized waveform\n",
    "plt.subplot(212)\n",
    "plt.ylim(-10000, 10000)\n",
    "#wave_vc = Parallel(n_jobs=-1)( [delayed(voice_change)(w, f, **params) for w, f in zip(wave, trial_utt)] )\n",
    "#y = time_switching_hiding_2(x,anon_method,param1_base=resample_base,param1_tune=resample_coef,param2_base=vtln_base,param2_tune=vtln_coef)\n",
    "y = time_switching_hiding(x, resampling, 1.0, 0.2) \n",
    "y = time_switching_hiding(y, vtln, 0.0, 0.1)\n",
    "#y = time_switching_hiding(x, sugoi_method, 2.0, 0.2) # 波形の2倍/0.2倍を実行\n",
    "plt.plot(y, color = \"orange\")\n",
    "\n",
    "wavfile.write(\"gomi_2.wav\", 16000, y.astype(np.int16))"
   ]
  },
  {
   "cell_type": "code",
   "execution_count": 46,
   "metadata": {},
   "outputs": [],
   "source": [
    "fs, x = wavfile.read(\"gomi_2.wav\")\n",
    "x = x.astype(np.float32)"
   ]
  },
  {
   "cell_type": "code",
   "execution_count": 47,
   "metadata": {},
   "outputs": [
    {
     "data": {
      "text/plain": [
       "array([-10., -21., -17., ...,   0.,   0.,   0.], dtype=float32)"
      ]
     },
     "execution_count": 47,
     "metadata": {},
     "output_type": "execute_result"
    }
   ],
   "source": [
    "x"
   ]
  },
  {
   "cell_type": "code",
   "execution_count": 44,
   "metadata": {},
   "outputs": [
    {
     "data": {
      "text/plain": [
       "array([-34., -36., -34., ...,   0.,   0.,   0.], dtype=float32)"
      ]
     },
     "execution_count": 44,
     "metadata": {},
     "output_type": "execute_result"
    }
   ],
   "source": [
    "x"
   ]
  }
 ],
 "metadata": {
  "kernelspec": {
   "display_name": "Python 3",
   "language": "python",
   "name": "python3"
  },
  "language_info": {
   "codemirror_mode": {
    "name": "ipython",
    "version": 3
   },
   "file_extension": ".py",
   "mimetype": "text/x-python",
   "name": "python",
   "nbconvert_exporter": "python",
   "pygments_lexer": "ipython3",
   "version": "3.7.6"
  }
 },
 "nbformat": 4,
 "nbformat_minor": 2
}
